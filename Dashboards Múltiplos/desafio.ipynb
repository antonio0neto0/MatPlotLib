{
 "cells": [
  {
   "cell_type": "code",
   "execution_count": 19,
   "metadata": {},
   "outputs": [],
   "source": [
    "# Desafio 1 - Baixe o código abaixo(desafio1.py) e coloque todos os gráficos abaixo dentro de um subplot (2x2)\n",
    "import matplotlib.pyplot as plt\n",
    "import numpy as np\n",
    "\n",
    "# Dados para o gráfico de barra\n",
    "x = ['A', 'B', 'C', 'D', 'E']\n",
    "y = [10, 24, 36, 40, 15]\n",
    "\n",
    "# Cria o gráfico de barra\n",
    "plt.bar(x, y)\n",
    "plt.title('Gráfico de Barra')\n",
    "\n",
    "# Dados para o gráfico de linha\n",
    "x = np.linspace(0, 10, 100)\n",
    "y = np.sin(x)\n",
    "\n",
    "# Cria o gráfico de linha\n",
    "plt.plot(x, y)\n",
    "plt.title('Gráfico de Linha')\n",
    "\n",
    "# Dados para o gráfico de dispersão\n",
    "x = np.random.rand(50)\n",
    "y = np.random.rand(50)\n",
    "\n",
    "# Cria o gráfico de dispersão\n",
    "plt.scatter(x, y)\n",
    "plt.title('Gráfico de Dispersão')\n",
    "\n",
    "# Dados para o gráfico de pizza\n",
    "labels = ['A', 'B', 'C', 'D', 'E']\n",
    "sizes = [15, 30, 45, 10, 5]\n",
    "\n",
    "# Cria o gráfico de pizza\n",
    "plt.pie(sizes, labels=labels, autopct='%1.1f%%')\n",
    "plt.title('Gráfico de Pizza')\n",
    "\n",
    "# Exibe os gráficos\n",
    "plt.show()"
   ]
  }
 ],
 "metadata": {
  "kernelspec": {
   "display_name": "jhonatan",
   "language": "python",
   "name": "python3"
  },
  "language_info": {
   "codemirror_mode": {
    "name": "ipython",
    "version": 3
   },
   "file_extension": ".py",
   "mimetype": "text/x-python",
   "name": "python",
   "nbconvert_exporter": "python",
   "pygments_lexer": "ipython3",
   "version": "3.12.2"
  }
 },
 "nbformat": 4,
 "nbformat_minor": 2
}
