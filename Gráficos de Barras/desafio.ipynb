{
 "cells": [
  {
   "cell_type": "code",
   "execution_count": 3,
   "metadata": {},
   "outputs": [],
   "source": [
    "# Use o arquivo pedidos.csv\n",
    "\n",
    "# O desafio será que mostrar um gráfico de barra que mostre total de vendas(algo que precisa ser ser calculado) agrupado por categoria, ordenados do valor mais baixo ao valor mais alto de venda\n",
    "\n",
    "# Seu Gráfico de barra deve conter um tamanho adequado o suficiente para que os dados fiquem claramente visíveis.\n",
    "\n",
    "# Faça uma versão do gráfico na vertifical e outro na versão horizontal\n"
   ]
  }
 ],
 "metadata": {
  "kernelspec": {
   "display_name": "jhonatan",
   "language": "python",
   "name": "python3"
  },
  "language_info": {
   "codemirror_mode": {
    "name": "ipython",
    "version": 3
   },
   "file_extension": ".py",
   "mimetype": "text/x-python",
   "name": "python",
   "nbconvert_exporter": "python",
   "pygments_lexer": "ipython3",
   "version": "3.12.2"
  }
 },
 "nbformat": 4,
 "nbformat_minor": 2
}
