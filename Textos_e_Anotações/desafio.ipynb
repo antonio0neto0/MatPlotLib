{
 "cells": [
  {
   "cell_type": "markdown",
   "metadata": {},
   "source": [
    "Desafio 1"
   ]
  },
  {
   "cell_type": "code",
   "execution_count": null,
   "metadata": {},
   "outputs": [],
   "source": [
    "# Dado o código a seguir, insira texto de acordo com os ponto mencionados nessa imagem: https://i.imgur.com/RqhBsMH.png\n",
    "import matplotlib.pyplot as plt\n",
    "\n",
    "meses_desafio = [10,20,30,40,50,60]\n",
    "vendas_desafio = [190, 210, 180, 200, 195, 220]\n",
    "\n",
    "plt.plot(meses_desafio, vendas_desafio)\n",
    "plt.title('Vendas Mensais')\n",
    "plt.xlabel('Meses')\n",
    "plt.ylabel('Vendas')\n",
    "\n",
    "# Insira o texto \"2° maior mês\" no ponto 1, com texto preto e fundo verde\n",
    "# Insira o texto \"3° Maior mês\" no ponto 2, com texto verde e fundo amarelo(yellow)"
   ]
  },
  {
   "cell_type": "markdown",
   "metadata": {},
   "source": [
    "Desafio 2"
   ]
  },
  {
   "cell_type": "code",
   "execution_count": null,
   "metadata": {},
   "outputs": [],
   "source": [
    "# Dado o código a seguir, insira textos, de acordo com a imagem a seguir: https://i.imgur.com/Xexlttc.png\n",
    "import matplotlib.pyplot as plt\n",
    "import numpy as np\n",
    "\n",
    "meses_desafio = ['Julho', 'Agosto', 'Setembro', 'Outubro', 'Novembro', 'Dezembro']\n",
    "vendas_desafio = [190, 210, 180, 200, 195, 220]\n",
    "\n",
    "plt.plot(meses_desafio, vendas_desafio)\n",
    "plt.title('Vendas Mensais')\n",
    "plt.xlabel('Meses')\n",
    "plt.ylabel('Vendas')\n",
    "\n",
    "# Insira o texto \"início\" no ponto 1, com texto azul claro(lightblue)e fundo preto\n",
    "# Insira o texto \"média\" no ponto 2, com texto amarelo(yellow) e fundo preto"
   ]
  },
  {
   "cell_type": "markdown",
   "metadata": {},
   "source": [
    "Desafio 3"
   ]
  },
  {
   "cell_type": "code",
   "execution_count": null,
   "metadata": {},
   "outputs": [],
   "source": [
    "# Dado o código a seguir, crie duas setas similar ao que vê na imagem a seguir: https://i.imgur.com/uaNFt6l.png\n",
    "import matplotlib.pyplot as plt\n",
    "import numpy as np\n",
    "\n",
    "meses_desafio = [10,20,30,40,50,60]\n",
    "vendas_desafio = [190, 210, 180, 200, 195, 220]\n",
    "\n",
    "plt.plot(meses_desafio, vendas_desafio)\n",
    "plt.title('Vendas Mensais')\n",
    "plt.xlabel('Meses')\n",
    "plt.ylabel('Vendas')\n",
    "# Resultado"
   ]
  }
 ],
 "metadata": {
  "kernelspec": {
   "display_name": "jhonatan",
   "language": "python",
   "name": "python3"
  },
  "language_info": {
   "codemirror_mode": {
    "name": "ipython",
    "version": 3
   },
   "file_extension": ".py",
   "mimetype": "text/x-python",
   "name": "python",
   "nbconvert_exporter": "python",
   "pygments_lexer": "ipython3",
   "version": "3.12.2"
  }
 },
 "nbformat": 4,
 "nbformat_minor": 2
}
