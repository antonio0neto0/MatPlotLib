{
 "cells": [
  {
   "cell_type": "code",
   "execution_count": null,
   "metadata": {},
   "outputs": [],
   "source": [
    "# Fonte de Dados para o Desafio:\n",
    "meses_desafio = ['Julho', 'Agosto', 'Setembro', 'Outubro', 'Novembro', 'Dezembro']\n",
    "vendas_desafio = [190, 210, 180, 200, 195, 220]\n",
    "\n",
    "# Com base nos dados fornecidos, crie um gráfico que mostre a evolução das vendas de acordo com os meses do segundo semestre(ou seja, dos meses fornecedidos aqui).\n",
    "\"\"\"\n",
    "O gráfico deve ser personalizado da seguinte maneira:\n",
    "Estilo de linha: sólida\n",
    "Color da linha: #1efac3\n",
    "Texto da legenda: Legenda\n",
    "Posição da legenda: canto inferior direito\n",
    "Legenda eixo X: Meses\n",
    "Legenda eixo Y: Vendas\n",
    "Grid: ligada\n",
    "tamanho do gráfico: 10x5(polegadas)\n",
    "dpi: 150\n",
    "cor externa: #1efac3\n",
    "\"\"\""
   ]
  }
 ],
 "metadata": {
  "kernelspec": {
   "display_name": "jhonatan",
   "language": "python",
   "name": "python3"
  },
  "language_info": {
   "codemirror_mode": {
    "name": "ipython",
    "version": 3
   },
   "file_extension": ".py",
   "mimetype": "text/x-python",
   "name": "python",
   "nbconvert_exporter": "python",
   "pygments_lexer": "ipython3",
   "version": "3.12.2"
  }
 },
 "nbformat": 4,
 "nbformat_minor": 2
}
