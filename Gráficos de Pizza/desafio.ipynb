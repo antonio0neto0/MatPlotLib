{
 "cells": [
  {
   "cell_type": "code",
   "execution_count": 19,
   "metadata": {},
   "outputs": [],
   "source": [
    "# Desafio\n",
    "# Com base nos dados do arquivos pedidos.csv exiba o status_pedido de acordo com as seguintes configurações:\n",
    "# Tamanho do gráfico: 7x7, dpi 150\n",
    "# Destaque(exploda) o pedaço que tiver o maior percentual\n",
    "# Atribua uma sombra ao gráfico \n",
    "# Use as seguintes combinações de cores: ['gold','lightblue','purple','green']\n",
    "# Altere a cor do texto para black, o fundo para white e o peso do texto para regular\n",
    "\n",
    "import matplotlib.pyplot as plt\n",
    "import pandas as pd\n",
    "\n",
    "pedidos = pd.read_csv('./pedidos.csv')\n",
    "# value_counts()\n"
   ]
  }
 ],
 "metadata": {
  "kernelspec": {
   "display_name": "jhonatan",
   "language": "python",
   "name": "python3"
  },
  "language_info": {
   "codemirror_mode": {
    "name": "ipython",
    "version": 3
   },
   "file_extension": ".py",
   "mimetype": "text/x-python",
   "name": "python",
   "nbconvert_exporter": "python",
   "pygments_lexer": "ipython3",
   "version": "3.12.2"
  }
 },
 "nbformat": 4,
 "nbformat_minor": 2
}
